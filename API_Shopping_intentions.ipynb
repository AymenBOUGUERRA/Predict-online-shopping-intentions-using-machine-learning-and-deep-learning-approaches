{
 "cells": [
  {
   "cell_type": "code",
   "execution_count": null,
   "id": "8f9d0e90",
   "metadata": {},
   "outputs": [],
   "source": [
    "pip install flask_restful"
   ]
  },
  {
   "cell_type": "code",
   "execution_count": null,
   "id": "5c32b190",
   "metadata": {},
   "outputs": [],
   "source": [
    "from flask import Flask\n",
    "from flask_restful import reqparse, abort, Api, Resource\n",
    "from sklearn.ensemble import RandomForestClassifier\n",
    "import numpy as np\n",
    "import pickle as p\n",
    "import json\n",
    "import pandas as pd\n",
    "\n",
    "app = Flask(__name__)\n",
    "api = Api(app)\n",
    "\n",
    "\n",
    "with open('model.pickle', 'rb') as f_model:\n",
    "    model = RandomForestClassifier(max_depth=10, random_state=2, n_estimators=91) \n",
    "\n",
    "a =\"Administrative,Administrative_Duration,Informational,Informational_Duration,ProductRelated,ProductRelated_Duration,BounceRates,ExitRates,PageValues,SpecialDay,Month,OperatingSystems,Browser,Region,TrafficType,VisitorType,Weekend\"\n",
    "columns = a.split(\",\")\n",
    "\n",
    "# argument parsing\n",
    "\n",
    "class PredictPurchase(Resource):\n",
    "\n",
    "    def get(self):\n",
    "        parser = reqparse.RequestParser()\n",
    "        parser.add_argument('query','9,176.6666667,2,153,27,880.8,0.007291667,0.020192308,8.54525,0,May,1,1,2,2,Returning_Visitor,TRUE')\n",
    "        args = parser.parse_args()\n",
    "        # use parser and find the user's query\n",
    "        arg = args['query']\n",
    "        val = arg.split(\",\")\n",
    "\n",
    "        if val[16] == \"FALSE\":\n",
    "            val[16] = False\n",
    "        else:\n",
    "            val[16] = True\n",
    "\n",
    "        df = pd.DataFrame([val],columns=columns)\n",
    "\n",
    "        for col in df.columns[:6]:\n",
    "            df[col] = df[col].astype('float64')\n",
    "        for col in df.columns[6:8]:\n",
    "            df[col] = df[col].astype('float64')\n",
    "        for col in df.columns[8:10]:\n",
    "            df[col] = df[col].astype('float64')\n",
    "        for col in df.columns[11:15]:\n",
    "            df[col] = df[col].astype('float64')\n",
    "\n",
    "        \n",
    "        \n",
    "\n",
    "        prediction = model.predict(df)\n",
    "\n",
    "        # Output 'Negative' or 'Positive' along with the score\n",
    "        print(prediction)\n",
    "        if prediction == False:\n",
    "            pred_text = 'Not purchased'\n",
    "        else:\n",
    "            pred_text = 'Purchased'\n",
    "\n",
    "        return pred_text\n",
    "\n",
    "api.add_resource(PredictPurchase, '/')\n",
    "\n",
    "\n",
    "if __name__ == '__main__':\n",
    "    app.run(debug=True)"
   ]
  },
  {
   "cell_type": "code",
   "execution_count": null,
   "id": "fab231d9",
   "metadata": {},
   "outputs": [],
   "source": [
    "http://127.0.0.1:5000/\n"
   ]
  },
  {
   "cell_type": "code",
   "execution_count": null,
   "id": "e7347b24-2715-4b28-b3bd-3aa52773df7f",
   "metadata": {},
   "outputs": [],
   "source": []
  }
 ],
 "metadata": {
  "kernelspec": {
   "display_name": "Python 3 (ipykernel)",
   "language": "python",
   "name": "python3"
  },
  "language_info": {
   "codemirror_mode": {
    "name": "ipython",
    "version": 3
   },
   "file_extension": ".py",
   "mimetype": "text/x-python",
   "name": "python",
   "nbconvert_exporter": "python",
   "pygments_lexer": "ipython3",
   "version": "3.7.8"
  }
 },
 "nbformat": 4,
 "nbformat_minor": 5
}
