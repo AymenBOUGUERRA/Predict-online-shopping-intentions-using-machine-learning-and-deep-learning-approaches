{
 "cells": [
  {
   "cell_type": "code",
   "execution_count": 1,
   "id": "8f9d0e90",
   "metadata": {},
   "outputs": [
    {
     "name": "stdout",
     "output_type": "stream",
     "text": [
      "Collecting flask_restful\n",
      "  Downloading Flask_RESTful-0.3.9-py2.py3-none-any.whl (25 kB)\n",
      "Collecting aniso8601>=0.82\n",
      "  Downloading aniso8601-9.0.1-py2.py3-none-any.whl (52 kB)\n",
      "Requirement already satisfied: Flask>=0.8 in c:\\users\\aymen\\pycharmprojects\\pythonproject\\venv\\lib\\site-packages (from flask_restful) (2.0.2)\n",
      "Requirement already satisfied: pytz in c:\\users\\aymen\\pycharmprojects\\pythonproject\\venv\\lib\\site-packages (from flask_restful) (2021.3)\n",
      "Requirement already satisfied: six>=1.3.0 in c:\\users\\aymen\\pycharmprojects\\pythonproject\\venv\\lib\\site-packages (from flask_restful) (1.15.0)\n",
      "Requirement already satisfied: Jinja2>=3.0 in c:\\users\\aymen\\pycharmprojects\\pythonproject\\venv\\lib\\site-packages (from Flask>=0.8->flask_restful) (3.0.3)\n",
      "Requirement already satisfied: itsdangerous>=2.0 in c:\\users\\aymen\\pycharmprojects\\pythonproject\\venv\\lib\\site-packages (from Flask>=0.8->flask_restful) (2.0.1)\n",
      "Requirement already satisfied: Werkzeug>=2.0 in c:\\users\\aymen\\pycharmprojects\\pythonproject\\venv\\lib\\site-packages (from Flask>=0.8->flask_restful) (2.0.2)\n",
      "Requirement already satisfied: click>=7.1.2 in c:\\users\\aymen\\pycharmprojects\\pythonproject\\venv\\lib\\site-packages (from Flask>=0.8->flask_restful) (8.0.3)\n",
      "Requirement already satisfied: importlib-metadata in c:\\users\\aymen\\pycharmprojects\\pythonproject\\venv\\lib\\site-packages (from click>=7.1.2->Flask>=0.8->flask_restful) (4.8.2)\n",
      "Requirement already satisfied: colorama in c:\\users\\aymen\\pycharmprojects\\pythonproject\\venv\\lib\\site-packages (from click>=7.1.2->Flask>=0.8->flask_restful) (0.4.3)\n",
      "Requirement already satisfied: MarkupSafe>=2.0 in c:\\users\\aymen\\pycharmprojects\\pythonproject\\venv\\lib\\site-packages (from Jinja2>=3.0->Flask>=0.8->flask_restful) (2.0.1)\n",
      "Requirement already satisfied: typing-extensions>=3.6.4 in c:\\users\\aymen\\pycharmprojects\\pythonproject\\venv\\lib\\site-packages (from importlib-metadata->click>=7.1.2->Flask>=0.8->flask_restful) (3.7.4.3)\n",
      "Requirement already satisfied: zipp>=0.5 in c:\\users\\aymen\\pycharmprojects\\pythonproject\\venv\\lib\\site-packages (from importlib-metadata->click>=7.1.2->Flask>=0.8->flask_restful) (3.6.0)\n",
      "Installing collected packages: aniso8601, flask-restful\n",
      "Successfully installed aniso8601-9.0.1 flask-restful-0.3.9\n",
      "Note: you may need to restart the kernel to use updated packages.\n"
     ]
    },
    {
     "name": "stderr",
     "output_type": "stream",
     "text": [
      "WARNING: You are using pip version 21.1.2; however, version 21.3.1 is available.\n",
      "You should consider upgrading via the 'c:\\users\\aymen\\pycharmprojects\\pythonproject\\venv\\scripts\\python.exe -m pip install --upgrade pip' command.\n"
     ]
    }
   ],
   "source": [
    "pip install flask_restful"
   ]
  },
  {
   "cell_type": "code",
   "execution_count": 3,
   "id": "5c32b190",
   "metadata": {},
   "outputs": [
    {
     "name": "stdout",
     "output_type": "stream",
     "text": [
      " * Serving Flask app '__main__' (lazy loading)\n",
      " * Environment: production\n",
      "\u001b[31m   WARNING: This is a development server. Do not use it in a production deployment.\u001b[0m\n",
      "\u001b[2m   Use a production WSGI server instead.\u001b[0m\n",
      " * Debug mode: on\n"
     ]
    },
    {
     "name": "stderr",
     "output_type": "stream",
     "text": [
      " * Restarting with stat\n"
     ]
    },
    {
     "ename": "SystemExit",
     "evalue": "1",
     "output_type": "error",
     "traceback": [
      "An exception has occurred, use %tb to see the full traceback.\n",
      "\u001b[1;31mSystemExit\u001b[0m\u001b[1;31m:\u001b[0m 1\n"
     ]
    }
   ],
   "source": [
    "from flask import Flask\n",
    "from flask_restful import reqparse, abort, Api, Resource\n",
    "from sklearn.ensemble import RandomForestClassifier\n",
    "import numpy as np\n",
    "import pickle as p\n",
    "import json\n",
    "import pandas as pd\n",
    "\n",
    "app = Flask(__name__)\n",
    "api = Api(app)\n",
    "\n",
    "\n",
    "with open('model.pickle', 'rb') as f_model:\n",
    "    model = RandomForestClassifier(max_depth=10, random_state=2, n_estimators=91) \n",
    "\n",
    "a =\"Administrative,Administrative_Duration,Informational,Informational_Duration,ProductRelated,ProductRelated_Duration,BounceRates,ExitRates,PageValues,SpecialDay,Month,OperatingSystems,Browser,Region,TrafficType,VisitorType,Weekend\"\n",
    "columns = a.split(\",\")\n",
    "\n",
    "# argument parsing\n",
    "\n",
    "class PredictPurchase(Resource):\n",
    "\n",
    "    def get(self):\n",
    "        parser = reqparse.RequestParser()\n",
    "        parser.add_argument('query','9,176.6666667,2,153,27,880.8,0.007291667,0.020192308,8.54525,0,May,1,1,2,2,Returning_Visitor,TRUE')\n",
    "        args = parser.parse_args()\n",
    "        # use parser and find the user's query\n",
    "        arg = args['query']\n",
    "        val = arg.split(\",\")\n",
    "\n",
    "        if val[16] == \"FALSE\":\n",
    "            val[16] = False\n",
    "        else:\n",
    "            val[16] = True\n",
    "\n",
    "        df = pd.DataFrame([val],columns=columns)\n",
    "\n",
    "        for col in df.columns[:6]:\n",
    "            df[col] = df[col].astype('float64')\n",
    "        for col in df.columns[6:8]:\n",
    "            df[col] = df[col].astype('float64')\n",
    "        for col in df.columns[8:10]:\n",
    "            df[col] = df[col].astype('float64')\n",
    "        for col in df.columns[11:15]:\n",
    "            df[col] = df[col].astype('float64')\n",
    "\n",
    "        \n",
    "        \n",
    "\n",
    "        prediction = model.predict(df)\n",
    "\n",
    "        # Output 'Negative' or 'Positive' along with the score\n",
    "        print(prediction)\n",
    "        if prediction == False:\n",
    "            pred_text = 'Not purchased'\n",
    "        else:\n",
    "            pred_text = 'Purchased'\n",
    "\n",
    "        return pred_text\n",
    "\n",
    "api.add_resource(PredictPurchase, '/')\n",
    "\n",
    "\n",
    "if __name__ == '__main__':\n",
    "    app.run(debug=True)"
   ]
  },
  {
   "cell_type": "code",
   "execution_count": 5,
   "id": "fab231d9",
   "metadata": {},
   "outputs": [
    {
     "ename": "SyntaxError",
     "evalue": "invalid syntax (Temp/ipykernel_12764/443800385.py, line 1)",
     "output_type": "error",
     "traceback": [
      "\u001b[1;36m  File \u001b[1;32m\"C:\\Users\\aymen\\AppData\\Local\\Temp/ipykernel_12764/443800385.py\"\u001b[1;36m, line \u001b[1;32m1\u001b[0m\n\u001b[1;33m    http://127.0.0.1:5000/\u001b[0m\n\u001b[1;37m          ^\u001b[0m\n\u001b[1;31mSyntaxError\u001b[0m\u001b[1;31m:\u001b[0m invalid syntax\n"
     ]
    }
   ],
   "source": [
    "http://127.0.0.1:5000/\n"
   ]
  },
  {
   "cell_type": "code",
   "execution_count": null,
   "id": "e7347b24-2715-4b28-b3bd-3aa52773df7f",
   "metadata": {},
   "outputs": [],
   "source": []
  }
 ],
 "metadata": {
  "kernelspec": {
   "display_name": "Python 3 (ipykernel)",
   "language": "python",
   "name": "python3"
  },
  "language_info": {
   "codemirror_mode": {
    "name": "ipython",
    "version": 3
   },
   "file_extension": ".py",
   "mimetype": "text/x-python",
   "name": "python",
   "nbconvert_exporter": "python",
   "pygments_lexer": "ipython3",
   "version": "3.7.8"
  }
 },
 "nbformat": 4,
 "nbformat_minor": 5
}
